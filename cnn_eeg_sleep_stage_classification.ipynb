{
 "cells": [
  {
   "cell_type": "markdown",
   "metadata": {},
   "source": [
    "### Import modules"
   ]
  },
  {
   "cell_type": "code",
   "execution_count": null,
   "metadata": {},
   "outputs": [],
   "source": [
    "import math\n",
    "import numpy as np\n",
    "import tensorflow as tf\n",
    "from pprint import pprint\n",
    "from scipy.io import loadmat\n",
    "from collections import Counter\n",
    "from matplotlib import pyplot as plt\n",
    "from sklearn.preprocessing import LabelEncoder\n",
    "from sklearn.model_selection import train_test_split\n",
    "from keras.utils import to_categorical\n",
    "\n",
    "plt.style.use(\"ggplot\")\n",
    "%matplotlib inline"
   ]
  },
  {
   "cell_type": "markdown",
   "metadata": {},
   "source": [
    "### Load data"
   ]
  },
  {
   "cell_type": "code",
   "execution_count": null,
   "metadata": {},
   "outputs": [],
   "source": [
    "# each sample lasts 30 seconds (sampling rate: 200 Hz)\n",
    "eeg_data = loadmat(\"./eeg_data.mat\")\n",
    "x = eeg_data['X_train']\n",
    "\n",
    "# labels\n",
    "sleep_stages = eeg_data['y_train']\n",
    "sleep_stages[sleep_stages == 'W '] = 'W'\n",
    "sleep_stages[sleep_stages == 'R '] = 'R'\n",
    "print(np.unique(sleep_stages))\n",
    "\n",
    "# targets\n",
    "le = LabelEncoder()\n",
    "labels = le.fit_transform(sleep_stages)\n",
    "y = to_categorical(labels)"
   ]
  },
  {
   "cell_type": "code",
   "execution_count": null,
   "metadata": {},
   "outputs": [],
   "source": [
    "hx, hy = np.transpose(tuple(Counter(labels).items()))\n",
    "\n",
    "# figure\n",
    "fig, ax = plt.subplots(figsize=(10, 5))\n",
    "fig.patch.set_facecolor(\"white\")\n",
    "ax.set(title=\"Class distribution\")\n",
    "ax.bar(hx, hy, width=0.4)\n",
    "ax.set_xticklabels([\"\"] + [le.inverse_transform(x) for x in range(5)])\n",
    "ax.set_xlabel(\"sleep stage\")\n",
    "ax.set_ylabel(\"volume\")\n",
    "total = np.sum(hy)\n",
    "for i, j in zip(hx, hy):\n",
    "    ax.text(i - 0.3, j + 100, \"%d (%.2f)\" % (j, j/total))\n",
    "plt.show()"
   ]
  },
  {
   "cell_type": "code",
   "execution_count": null,
   "metadata": {},
   "outputs": [],
   "source": [
    "# shape\n",
    "print(x.shape)"
   ]
  },
  {
   "cell_type": "code",
   "execution_count": null,
   "metadata": {},
   "outputs": [],
   "source": [
    "fig, ax = plt.subplots(figsize=(10, 5))\n",
    "plt.plot(x[0])"
   ]
  },
  {
   "cell_type": "markdown",
   "metadata": {},
   "source": [
    "## Sub-sampling eeg signal"
   ]
  },
  {
   "cell_type": "code",
   "execution_count": null,
   "metadata": {},
   "outputs": [],
   "source": [
    "# sub-sampling\n",
    "x_sub = x[:, ::6]\n",
    "print(x_sub.shape)"
   ]
  },
  {
   "cell_type": "code",
   "execution_count": null,
   "metadata": {},
   "outputs": [],
   "source": [
    "fig, ax = plt.subplots(figsize=(10, 5))\n",
    "plt.plot(x_sub[0])"
   ]
  },
  {
   "cell_type": "markdown",
   "metadata": {},
   "source": [
    "## CNN architecture"
   ]
  },
  {
   "cell_type": "code",
   "execution_count": null,
   "metadata": {},
   "outputs": [],
   "source": [
    "# parameters\n",
    "win_sec = 1\n",
    "overlap = 0.2\n",
    "num_filters = 300\n",
    "learning_rate = 1e-2\n",
    "\n",
    "# pretty print\n",
    "n, sample_size = x_sub.shape\n",
    "freq = sample_size / 30\n",
    "num_classes = np.shape(y)[1]\n",
    "\n",
    "# first pooling\n",
    "win_size = int(win_sec * freq)\n",
    "overlap_size = int(overlap * freq)\n",
    "filter_size = win_size\n",
    "stride = overlap_size\n",
    "print(\"%d samples\" % n)\n",
    "print(\"sampling rate: %.2f Hz\" % freq)\n",
    "print(\"sample size: %d\" % sample_size)\n",
    "print()\n",
    "print(\"window of %.2f seconds: filter size of %d samples\" % (win_sec, win_size))\n",
    "print(\"overlapping windows of %.2f seconds: stride of %d samples\" % (overlap, overlap_size))\n",
    "print()\n",
    "print(\"number of classes: %d\" % num_classes)\n",
    "print(\"number of filter: %d\" % num_filters)"
   ]
  },
  {
   "cell_type": "code",
   "execution_count": null,
   "metadata": {
    "collapsed": true
   },
   "outputs": [],
   "source": [
    "# helper functions \n",
    "def apply_conv1d(x, filter_size, stride, out_size):\n",
    "    filter_shape = [filter_size, 1, 1, out_size]\n",
    "    W = tf.Variable(tf.truncated_normal(filter_shape, stddev=0.1), name='W')\n",
    "    conv = tf.nn.conv2d(x,\n",
    "                        W, \n",
    "                        strides=[1, stride, 1, 1],\n",
    "                        padding='VALID',\n",
    "                        name='conv')\n",
    "    b = tf.Variable(tf.constant(0.1, shape=[out_size]), name='b')\n",
    "    return tf.nn.bias_add(conv, b)\n",
    "\n",
    "def apply_max_pool(x, window, stride=1):\n",
    "    pool = tf.nn.max_pool(x,\n",
    "                          ksize=[1, window, 1, 1],\n",
    "                          strides=[1, stride, 1, 1], \n",
    "                          padding='VALID', \n",
    "                          name='pool')\n",
    "    return pool\n",
    "\n",
    "def get_flat_size(x):\n",
    "    shape = x.get_shape().as_list()\n",
    "    return shape[1] * shape[2] * shape[3] \n",
    "\n",
    "def apply_fully_connected(x, in_size, out_size):\n",
    "    W_o = tf.Variable(\n",
    "        tf.truncated_normal(\n",
    "            [in_size, out_size], stddev=0.1 ), \n",
    "            name='W_o'\n",
    "    )\n",
    "    b_o = tf.Variable(tf.constant(0.1, shape=[out_size]), name='b_o')\n",
    "    return tf.nn.xw_plus_b(h_o, W_o, b_o, name='preds')"
   ]
  },
  {
   "cell_type": "code",
   "execution_count": null,
   "metadata": {},
   "outputs": [],
   "source": [
    "%%time\n",
    "\n",
    "# placeholders\n",
    "x_input = tf.placeholder(tf.float32, shape=[None, sample_size], name='x_input')\n",
    "y_input = tf.placeholder(tf.float32, shape=[None, num_classes], name='y_input')\n",
    "dropout = tf.placeholder(tf.float32, name=\"dropout_keep_prob\")\n",
    "\n",
    "with tf.device(\"/cpu:0\"):\n",
    "    \n",
    "    with tf.name_scope(\"expand\"):\n",
    "        x_expanded = tf.expand_dims(tf.expand_dims(x_input, -1), -1)\n",
    "    \n",
    "    with tf.name_scope(\"conv1d\"):\n",
    "        conv = apply_conv1d(x_expanded, filter_size, stride, num_filters)\n",
    "        h = tf.nn.relu(conv, name='relu')\n",
    "        \n",
    "    with tf.name_scope(\"pooling\"): \n",
    "        h_pool = apply_max_pool(h, 20, 5)\n",
    "        out_size = get_flat_size(h_pool)\n",
    "        h_flat = tf.reshape(h_pool, [-1, out_size])\n",
    "        \n",
    "    with tf.name_scope(\"dropout\"):\n",
    "        h_o = tf.nn.dropout(h_flat, dropout)\n",
    "\n",
    "    with tf.name_scope(\"fully_connect\"):\n",
    "        preds = apply_fully_connected(h_o, out_size, num_classes)\n",
    "        \n",
    "    with tf.name_scope(\"loss\"):\n",
    "        losses = tf.nn.softmax_cross_entropy_with_logits(\n",
    "            logits=preds,\n",
    "            labels=y_input,\n",
    "            name='losses'\n",
    "        )\n",
    "        loss = tf.reduce_mean(losses, name='loss')\n",
    "\n",
    "    with tf.name_scope(\"optimization\"):\n",
    "        optimizer = tf.train.AdamOptimizer(learning_rate)\n",
    "        train_op = optimizer.minimize(loss) \n",
    "        \n",
    "    with tf.name_scope(\"accuracy\"):\n",
    "        labels_pred = tf.argmax(preds, axis=1) \n",
    "        labels_true = tf.argmax(y_input, axis=1)\n",
    "        correct_predictions = tf.equal(labels_pred, labels_true)\n",
    "        accuracy = tf.reduce_mean(tf.cast(correct_predictions, 'float'), name='accuracy')\n",
    "        \n",
    "    init = tf.global_variables_initializer()"
   ]
  },
  {
   "cell_type": "code",
   "execution_count": null,
   "metadata": {},
   "outputs": [],
   "source": [
    "# testing\n",
    "with tf.Session() as sess:\n",
    "    sess.run(init)\n",
    "    D = {x_input: x_sub[:10], y_input: y[:10], dropout: 1}\n",
    "    __ = sess.run(h_flat, feed_dict=D)"
   ]
  },
  {
   "cell_type": "code",
   "execution_count": null,
   "metadata": {},
   "outputs": [],
   "source": [
    "%%time\n",
    "with tf.Session() as sess:\n",
    "    sess.run(init)\n",
    "    D = {x_input: x_sub, y_input: y, dropout: 1}\n",
    "    test_out = sess.run(preds, feed_dict=D)\n",
    "    \n",
    "print(test_out[0])"
   ]
  },
  {
   "cell_type": "code",
   "execution_count": null,
   "metadata": {},
   "outputs": [],
   "source": [
    "%%time\n",
    "with tf.Session() as sess:\n",
    "    sess.run(init)\n",
    "    D = {x_input: x_sub, y_input: y, dropout: 1}\n",
    "    acc, lb_pred, lb_true = sess.run([accuracy, labels_pred, labels_true], feed_dict=D)\n",
    "    \n",
    "print(acc)\n",
    "print(Counter(lb_pred))\n",
    "print(Counter(lb_true))"
   ]
  },
  {
   "cell_type": "code",
   "execution_count": null,
   "metadata": {
    "collapsed": true
   },
   "outputs": [],
   "source": [
    "batch_size = 16\n",
    "num_epochs = 3\n",
    "p = 1\n",
    "seed = 42\n",
    "split = train_test_split(x_sub, y, labels, train_size=0.75, random_state=seed)\n",
    "x_train, x_test, y_train, y_test, labels_train, labels_test = split"
   ]
  },
  {
   "cell_type": "code",
   "execution_count": null,
   "metadata": {},
   "outputs": [],
   "source": [
    "%%time\n",
    "\n",
    "np.random.seed(10)\n",
    "\n",
    "with tf.Session() as sess:\n",
    "    # init\n",
    "    sess.run(init)\n",
    "    acc_train = sess.run(accuracy, feed_dict={x_input: x_train, y_input: y_train, dropout: 1})\n",
    "    acc_test = sess.run(accuracy, feed_dict={x_input: x_test, y_input: y_test, dropout: 1})\n",
    "    print(\"init.: _ train acc: %0.2f test acc: %0.2f\" % (acc_train, acc_test))\n",
    "    \n",
    "    # training\n",
    "    losses = []\n",
    "    for e in range(num_epochs):\n",
    "        for i in range(x_train.shape[0] // batch_size):\n",
    "            \n",
    "            idx = i * batch_size\n",
    "            idxn = min(x_train.shape[0] - 1, (i+1) * batch_size)\n",
    "            batch_xs = x_train[idx: idxn]\n",
    "            batch_ys = y_train[idx: idxn]\n",
    "            feed_train = {x_input: batch_xs, y_input: batch_ys, dropout: p}\n",
    "            __, l = sess.run([train_op, loss], feed_dict=feed_train)\n",
    "            losses.append(l)\n",
    "            \n",
    "        acc_train = sess.run(accuracy, feed_dict={x_input: x_train, y_input: y_train, dropout: p})\n",
    "        acc_test = sess.run(accuracy, feed_dict={x_input: x_test, y_input: y_test, dropout: 1})\n",
    "        print(\"epoch: %d train acc: %0.2f test acc: %0.2f\" % (e, acc_train, acc_test))\n",
    "        \n",
    "    file_writer = tf.summary.FileWriter('./tensorflow_summaries', sess.graph)\n",
    "    \n",
    "    # use trained model\n",
    "    feed = {x_input: x_test, y_input: y_test, dropout: 1}\n",
    "    lb_pred, lb_true = sess.run([labels_pred, labels_true], feed_dict=feed)\n",
    "    \n",
    "    # debug\n",
    "    test_out = sess.run(preds, feed_dict=feed)"
   ]
  },
  {
   "cell_type": "code",
   "execution_count": null,
   "metadata": {},
   "outputs": [],
   "source": [
    "Counter(np.argmax(batch_ys, axis=1))"
   ]
  },
  {
   "cell_type": "code",
   "execution_count": null,
   "metadata": {},
   "outputs": [],
   "source": [
    "plt.plot(losses)\n",
    "print(Counter(lb_pred))\n",
    "print(Counter(lb_true))"
   ]
  }
 ],
 "metadata": {
  "kernelspec": {
   "display_name": "Python 3",
   "language": "python",
   "name": "python3"
  },
  "language_info": {
   "codemirror_mode": {
    "name": "ipython",
    "version": 3
   },
   "file_extension": ".py",
   "mimetype": "text/x-python",
   "name": "python",
   "nbconvert_exporter": "python",
   "pygments_lexer": "ipython3",
   "version": "3.6.0"
  }
 },
 "nbformat": 4,
 "nbformat_minor": 2
}
